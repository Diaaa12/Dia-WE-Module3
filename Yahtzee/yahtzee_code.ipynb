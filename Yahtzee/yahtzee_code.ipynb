{
  "nbformat": 4,
  "nbformat_minor": 0,
  "metadata": {
    "colab": {
      "provenance": []
    },
    "kernelspec": {
      "name": "python3",
      "display_name": "Python 3"
    },
    "language_info": {
      "name": "python"
    }
  },
  "cells": [
    {
      "cell_type": "code",
      "execution_count": 1,
      "metadata": {
        "id": "HeYovGsi1UNu"
      },
      "outputs": [],
      "source": [
        "import random\n",
        "\n",
        "def roll_die():\n",
        "  \"\"\"Simulates a single die roll and returns a random number between 1 and 6.\"\"\"\n",
        "  return random.randint(1, 6)"
      ]
    },
    {
      "cell_type": "code",
      "source": [
        "def roll_dice(dice):\n",
        "  \"\"\"Rolls all dice in the dice array and updates their values.\"\"\"\n",
        "  for i in range(len(dice)):\n",
        "    dice[i] = roll_die()\n"
      ],
      "metadata": {
        "id": "jMz9jkoo1fFO"
      },
      "execution_count": 2,
      "outputs": []
    },
    {
      "cell_type": "code",
      "source": [
        "def calculate_score(dice, category):\n",
        "  \"\"\"Calculates the score based on the chosen category and dice values.\n",
        "\n",
        "  Args:\n",
        "      dice: List containing the values of the five dice.\n",
        "      category: String representing the chosen scoring category.\n",
        "\n",
        "  Returns:\n",
        "      Integer representing the score achieved, or 0 if the category isn't met.\n",
        "  \"\"\"\n",
        "  score = 0\n",
        "  if category == \"ones\":\n",
        "    score = sum(die for die in dice if die == 1)\n",
        "  elif category == \"twos\":\n",
        "    score = sum(die for die in dice if die == 2)\n",
        "    # ... similar logic for other upper section categories ...\n",
        "  elif category == \"full_house\":\n",
        "    # Check for three of a kind and a pair\n",
        "    three_kind = False\n",
        "    pair_kind = None\n",
        "    for value in range(1, 7):\n",
        "      count = dice.count(value)\n",
        "      if count == 3:\n",
        "        three_kind = True\n",
        "      elif count == 2 and not pair_kind:\n",
        "        pair_kind = value\n",
        "    if three_kind and pair_kind:\n",
        "      score = 25\n",
        "  elif category == \"small_straight\":\n",
        "    # Check for a sequence of four consecutive numbers\n",
        "    dice.sort()\n",
        "    consecutive_count = 1\n",
        "    for i in range(1, len(dice)):\n",
        "      if dice[i] == dice[i-1] + 1:\n",
        "        consecutive_count += 1\n",
        "      else:\n",
        "        consecutive_count = 1\n",
        "      if consecutive_count == 4:\n",
        "        score = 30\n",
        "    # ... similar logic for other lower section categories ...\n",
        "  else:\n",
        "    # Invalid category\n",
        "    score = 0\n",
        "  return score"
      ],
      "metadata": {
        "id": "Q_BNGMBF1jE5"
      },
      "execution_count": 3,
      "outputs": []
    },
    {
      "cell_type": "code",
      "source": [
        "def play_yahtzee():\n",
        "  \"\"\"Simulates a single game of Yahtzee.\"\"\"\n",
        "  dice = [1, 2, 3, 4, 5]  # Initial dice values (can be empty)\n",
        "  scorecard = [-1] * 13  # Initialize scorecard with -1 for unused categories\n",
        "  unused_categories = set(range(13))  # Track unused categories\n",
        "\n",
        "  for round_ in range(13):  # Play for up to 13 rounds (enough to fill the scorecard)\n",
        "    num_rolls = 0\n",
        "    while num_rolls < 3:\n",
        "      print(f\"\\nRound {round_+1}, Roll {num_rolls+1}: {dice}\")\n",
        "      if num_rolls > 0:\n",
        "        # Choose dice to re-roll\n",
        "        re_roll = input(\"Enter dice numbers to re-roll (separated by spaces) or 'n' to continue: \")\n",
        "        if re_roll.lower() != 'n':\n",
        "          for num in re_roll.split():\n",
        "            try:\n",
        "              dice[int(num) - 1] = roll_die()\n",
        "            except ValueError:\n",
        "              print(\"Invalid dice number. Please enter numbers between 1 and 5.\")\n",
        "      roll_dice(dice)\n",
        "      num_rolls += 1\n",
        "\n",
        "    # Display available scoring categories\n",
        "    available_categories = [category for i, category in enumerate(YAHTZEE_CATEGORIES) if scorecard[i] == -1]\n",
        "    print(\"\\nAvailable Categories:\")\n",
        "    for i, category in enumerate(available_categories):\n",
        "      print(f\"{i+1}. {category}\")\n",
        "\n",
        "    # Get user input for chosen category\n",
        "    while True:\n",
        "      try:\n",
        "        choice = int(input(\"Choose a scoring category (or 0 to exit): \"))\n",
        "        if 0 <= choice <= len(available_categories):\n",
        "          break\n",
        "        else:\n",
        "          print(\"Invalid choice. Please enter a number between 0 and\", len(available_categories))\n",
        "      except ValueError:\n",
        "        print(\"Invalid input. Please enter a number.\")\n",
        "    if choice == 0:\n",
        "      break\n",
        "\n",
        "    category = available_categories[choice - 1]\n",
        "    unused_categories.remove(YAHTZEE_CATEGORIES.index(category))\n",
        "    score = calculate_score(dice, category)\n",
        "    scorecard\n"
      ],
      "metadata": {
        "id": "VVU_c3lb1aE5"
      },
      "execution_count": 4,
      "outputs": []
    },
    {
      "cell_type": "code",
      "source": [
        "play_yahtzee"
      ],
      "metadata": {
        "colab": {
          "base_uri": "https://localhost:8080/",
          "height": 103
        },
        "id": "VzlPXnjh2v3V",
        "outputId": "7d3e64b8-4972-451e-93ca-debe3ac89d7e"
      },
      "execution_count": 5,
      "outputs": [
        {
          "output_type": "execute_result",
          "data": {
            "text/plain": [
              "<function __main__.play_yahtzee()>"
            ],
            "text/html": [
              "<div style=\"max-width:800px; border: 1px solid var(--colab-border-color);\"><style>\n",
              "      pre.function-repr-contents {\n",
              "        overflow-x: auto;\n",
              "        padding: 8px 12px;\n",
              "        max-height: 500px;\n",
              "      }\n",
              "\n",
              "      pre.function-repr-contents.function-repr-contents-collapsed {\n",
              "        cursor: pointer;\n",
              "        max-height: 100px;\n",
              "      }\n",
              "    </style>\n",
              "    <pre style=\"white-space: initial; background:\n",
              "         var(--colab-secondary-surface-color); padding: 8px 12px;\n",
              "         border-bottom: 1px solid var(--colab-border-color);\"><b>play_yahtzee</b><br/>def play_yahtzee()</pre><pre class=\"function-repr-contents function-repr-contents-collapsed\" style=\"\"><a class=\"filepath\" style=\"display:none\" href=\"#\">/content/&lt;ipython-input-4-6cba83d7012d&gt;</a>Simulates a single game of Yahtzee.</pre></div>"
            ]
          },
          "metadata": {},
          "execution_count": 5
        }
      ]
    }
  ]
}